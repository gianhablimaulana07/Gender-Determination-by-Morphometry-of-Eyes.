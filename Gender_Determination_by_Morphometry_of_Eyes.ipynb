{
  "nbformat": 4,
  "nbformat_minor": 0,
  "metadata": {
    "colab": {
      "provenance": []
    },
    "kernelspec": {
      "name": "python3",
      "display_name": "Python 3"
    },
    "language_info": {
      "name": "python"
    }
  },
  "cells": [
    {
      "cell_type": "markdown",
      "source": [
        "#**Problem Statement**\n",
        "The anthropometric analysis of the human face is an essential study for performing craniofacial plastic and reconstructive surgeries. Facial anthropometrics are affected by various factors such as age, gender, ethnicity, socioeconomic status, environment, and region.  \n",
        "\n",
        " \n",
        "Plastic surgeons who undertake the repair and reconstruction of facial deformities find the anatomical dimensions of the facial structures useful for their surgeries. These dimensions are a result of the Physical or Facial appearance of an individual. Along with factors like culture, personality, ethnic background, age; eye appearance and symmetry contributes majorly to the facial appearance or aesthetics. \n",
        "\n",
        " \n",
        "\n",
        "Our objective is to build a model to scan the image of an eye of a patient and find if the gender of the patient is male or female.\n",
        "\n",
        " The dataset contains eye pictures of males and females. The dataset can be downloaded from the below link.\n",
        "\n",
        " \n",
        "\n",
        "Dataset Link: https://drive.google.com/file/d/1f7uslI-ZHidriQFZR966_aILjlkgDN76/view?usp=sharing\n",
        "\n",
        "From the above link, you will be able to download a zip file named ‘eye_gender_data.zip’. After you extract this zip file, you will get four files:\n",
        "\n",
        "1. train - contains all the images that are to be used for training your model.\n",
        "\n",
        "2. Training_set.csv - this csv file has contains the labels for the training images\n",
        "\n",
        "3. test - contains 9000+ images. For these images you are required to make predictions\n",
        "\n",
        "4. Testing_set.csv - this is the order of the predictions for each image that is to be submitted on the platform. Make sure the predictions you submit are with their image’s filename in the same order as given in this file.\n"
      ],
      "metadata": {
        "id": "Ujkh-LTYR4gm"
      }
    },
    {
      "cell_type": "markdown",
      "metadata": {
        "id": "om26-7VhpmTm"
      },
      "source": [
        "## **Import Important**"
      ]
    },
    {
      "cell_type": "code",
      "metadata": {
        "id": "eMjHAaFfoRGX"
      },
      "source": [
        "# to prevent unnecessary warnings\n",
        "import warnings\n",
        "warnings.simplefilter(action='ignore', category=FutureWarning)\n",
        "\n",
        "# TensorFlow and tf.keras\n",
        "import tensorflow as tf\n",
        "\n",
        "from pathlib import Path\n",
        "\n",
        "#import useful module for keras library\n",
        "from tensorflow import keras\n",
        "from tensorflow.keras.models import Sequential\n",
        "from tensorflow.keras.layers import Dense, Dropout, Flatten, Conv2D, MaxPooling2D, BatchNormalization\n",
        "from tensorflow.keras.optimizers import Adam\n",
        "from tensorflow.keras.losses import SparseCategoricalCrossentropy\n",
        "from keras.preprocessing.image import ImageDataGenerator\n",
        "from tensorflow.keras.regularizers import l2\n",
        "\n",
        "# get modules from sklearn library\n",
        "from sklearn.preprocessing import StandardScaler \n",
        "from sklearn.model_selection import train_test_split \n",
        "from sklearn.metrics import classification_report \n",
        "\n",
        "#import libraries\n",
        "import matplotlib.pyplot as plt\n",
        "import seaborn as sns\n",
        "import random\n",
        "import pandas as pd\n",
        "import numpy as np"
      ],
      "execution_count": 23,
      "outputs": []
    },
    {
      "cell_type": "markdown",
      "metadata": {
        "id": "_P-w7T37E-gD"
      },
      "source": [
        "## **Import Dataset**"
      ]
    },
    {
      "cell_type": "markdown",
      "metadata": {
        "id": "kgBw6fVxqlOo"
      },
      "source": [
        "Load the training set data"
      ]
    },
    {
      "cell_type": "code",
      "metadata": {
        "colab": {
          "base_uri": "https://localhost:8080/"
        },
        "id": "3N8CiTtror9N",
        "outputId": "9fc5e46c-9424-438a-d8b6-cbc44046f186"
      },
      "source": [
        "from google.colab import drive\n",
        "drive.mount('/content/drive')\n",
        "\n"
      ],
      "execution_count": 4,
      "outputs": [
        {
          "output_type": "stream",
          "name": "stdout",
          "text": [
            "Drive already mounted at /content/drive; to attempt to forcibly remount, call drive.mount(\"/content/drive\", force_remount=True).\n"
          ]
        }
      ]
    },
    {
      "cell_type": "markdown",
      "source": [],
      "metadata": {
        "id": "gbIWi2oNBhFZ"
      }
    },
    {
      "cell_type": "code",
      "metadata": {
        "colab": {
          "base_uri": "https://localhost:8080/",
          "height": 206
        },
        "id": "qsg0VbjcZTHz",
        "outputId": "b96626bf-1243-4a74-a65d-87e7b2b0a686"
      },
      "source": [
        "path = '/content/drive/MyDrive/eye_gender_data/'\n",
        "\n",
        "#read the train_data with pandas read csv\n",
        "eye_train = pd.read_csv(path+\"Training_set.csv\")\n",
        "eye_test = pd.read_csv(path+\"Testing_set.csv\")\n",
        "\n",
        "\n",
        "#view the first 4 rows of the dataset in a table\n",
        "eye_train.head()"
      ],
      "execution_count": 5,
      "outputs": [
        {
          "output_type": "execute_result",
          "data": {
            "text/plain": [
              "      filename   label\n",
              "0  Image_1.jpg    male\n",
              "1  Image_2.jpg  female\n",
              "2  Image_3.jpg  female\n",
              "3  Image_4.jpg  female\n",
              "4  Image_5.jpg    male"
            ],
            "text/html": [
              "\n",
              "  <div id=\"df-0cc51b0f-bf44-488d-8a29-dac5b09513ae\">\n",
              "    <div class=\"colab-df-container\">\n",
              "      <div>\n",
              "<style scoped>\n",
              "    .dataframe tbody tr th:only-of-type {\n",
              "        vertical-align: middle;\n",
              "    }\n",
              "\n",
              "    .dataframe tbody tr th {\n",
              "        vertical-align: top;\n",
              "    }\n",
              "\n",
              "    .dataframe thead th {\n",
              "        text-align: right;\n",
              "    }\n",
              "</style>\n",
              "<table border=\"1\" class=\"dataframe\">\n",
              "  <thead>\n",
              "    <tr style=\"text-align: right;\">\n",
              "      <th></th>\n",
              "      <th>filename</th>\n",
              "      <th>label</th>\n",
              "    </tr>\n",
              "  </thead>\n",
              "  <tbody>\n",
              "    <tr>\n",
              "      <th>0</th>\n",
              "      <td>Image_1.jpg</td>\n",
              "      <td>male</td>\n",
              "    </tr>\n",
              "    <tr>\n",
              "      <th>1</th>\n",
              "      <td>Image_2.jpg</td>\n",
              "      <td>female</td>\n",
              "    </tr>\n",
              "    <tr>\n",
              "      <th>2</th>\n",
              "      <td>Image_3.jpg</td>\n",
              "      <td>female</td>\n",
              "    </tr>\n",
              "    <tr>\n",
              "      <th>3</th>\n",
              "      <td>Image_4.jpg</td>\n",
              "      <td>female</td>\n",
              "    </tr>\n",
              "    <tr>\n",
              "      <th>4</th>\n",
              "      <td>Image_5.jpg</td>\n",
              "      <td>male</td>\n",
              "    </tr>\n",
              "  </tbody>\n",
              "</table>\n",
              "</div>\n",
              "      <button class=\"colab-df-convert\" onclick=\"convertToInteractive('df-0cc51b0f-bf44-488d-8a29-dac5b09513ae')\"\n",
              "              title=\"Convert this dataframe to an interactive table.\"\n",
              "              style=\"display:none;\">\n",
              "        \n",
              "  <svg xmlns=\"http://www.w3.org/2000/svg\" height=\"24px\"viewBox=\"0 0 24 24\"\n",
              "       width=\"24px\">\n",
              "    <path d=\"M0 0h24v24H0V0z\" fill=\"none\"/>\n",
              "    <path d=\"M18.56 5.44l.94 2.06.94-2.06 2.06-.94-2.06-.94-.94-2.06-.94 2.06-2.06.94zm-11 1L8.5 8.5l.94-2.06 2.06-.94-2.06-.94L8.5 2.5l-.94 2.06-2.06.94zm10 10l.94 2.06.94-2.06 2.06-.94-2.06-.94-.94-2.06-.94 2.06-2.06.94z\"/><path d=\"M17.41 7.96l-1.37-1.37c-.4-.4-.92-.59-1.43-.59-.52 0-1.04.2-1.43.59L10.3 9.45l-7.72 7.72c-.78.78-.78 2.05 0 2.83L4 21.41c.39.39.9.59 1.41.59.51 0 1.02-.2 1.41-.59l7.78-7.78 2.81-2.81c.8-.78.8-2.07 0-2.86zM5.41 20L4 18.59l7.72-7.72 1.47 1.35L5.41 20z\"/>\n",
              "  </svg>\n",
              "      </button>\n",
              "      \n",
              "  <style>\n",
              "    .colab-df-container {\n",
              "      display:flex;\n",
              "      flex-wrap:wrap;\n",
              "      gap: 12px;\n",
              "    }\n",
              "\n",
              "    .colab-df-convert {\n",
              "      background-color: #E8F0FE;\n",
              "      border: none;\n",
              "      border-radius: 50%;\n",
              "      cursor: pointer;\n",
              "      display: none;\n",
              "      fill: #1967D2;\n",
              "      height: 32px;\n",
              "      padding: 0 0 0 0;\n",
              "      width: 32px;\n",
              "    }\n",
              "\n",
              "    .colab-df-convert:hover {\n",
              "      background-color: #E2EBFA;\n",
              "      box-shadow: 0px 1px 2px rgba(60, 64, 67, 0.3), 0px 1px 3px 1px rgba(60, 64, 67, 0.15);\n",
              "      fill: #174EA6;\n",
              "    }\n",
              "\n",
              "    [theme=dark] .colab-df-convert {\n",
              "      background-color: #3B4455;\n",
              "      fill: #D2E3FC;\n",
              "    }\n",
              "\n",
              "    [theme=dark] .colab-df-convert:hover {\n",
              "      background-color: #434B5C;\n",
              "      box-shadow: 0px 1px 3px 1px rgba(0, 0, 0, 0.15);\n",
              "      filter: drop-shadow(0px 1px 2px rgba(0, 0, 0, 0.3));\n",
              "      fill: #FFFFFF;\n",
              "    }\n",
              "  </style>\n",
              "\n",
              "      <script>\n",
              "        const buttonEl =\n",
              "          document.querySelector('#df-0cc51b0f-bf44-488d-8a29-dac5b09513ae button.colab-df-convert');\n",
              "        buttonEl.style.display =\n",
              "          google.colab.kernel.accessAllowed ? 'block' : 'none';\n",
              "\n",
              "        async function convertToInteractive(key) {\n",
              "          const element = document.querySelector('#df-0cc51b0f-bf44-488d-8a29-dac5b09513ae');\n",
              "          const dataTable =\n",
              "            await google.colab.kernel.invokeFunction('convertToInteractive',\n",
              "                                                     [key], {});\n",
              "          if (!dataTable) return;\n",
              "\n",
              "          const docLinkHtml = 'Like what you see? Visit the ' +\n",
              "            '<a target=\"_blank\" href=https://colab.research.google.com/notebooks/data_table.ipynb>data table notebook</a>'\n",
              "            + ' to learn more about interactive tables.';\n",
              "          element.innerHTML = '';\n",
              "          dataTable['output_type'] = 'display_data';\n",
              "          await google.colab.output.renderOutput(dataTable, element);\n",
              "          const docLink = document.createElement('div');\n",
              "          docLink.innerHTML = docLinkHtml;\n",
              "          element.appendChild(docLink);\n",
              "        }\n",
              "      </script>\n",
              "    </div>\n",
              "  </div>\n",
              "  "
            ]
          },
          "metadata": {},
          "execution_count": 5
        }
      ]
    },
    {
      "cell_type": "code",
      "metadata": {
        "id": "kBjrPv1HtrNG",
        "colab": {
          "base_uri": "https://localhost:8080/"
        },
        "outputId": "d119062d-189c-4929-f9a0-13390a1c6cfe"
      },
      "source": [
        "#get shape of dataset\n",
        "print(eye_train.shape)\n",
        "\n",
        "print(eye_train.info())"
      ],
      "execution_count": 6,
      "outputs": [
        {
          "output_type": "stream",
          "name": "stdout",
          "text": [
            "(9220, 2)\n",
            "<class 'pandas.core.frame.DataFrame'>\n",
            "RangeIndex: 9220 entries, 0 to 9219\n",
            "Data columns (total 2 columns):\n",
            " #   Column    Non-Null Count  Dtype \n",
            "---  ------    --------------  ----- \n",
            " 0   filename  9220 non-null   object\n",
            " 1   label     9220 non-null   object\n",
            "dtypes: object(2)\n",
            "memory usage: 144.2+ KB\n",
            "None\n"
          ]
        }
      ]
    },
    {
      "cell_type": "code",
      "metadata": {
        "id": "wBrp9i545HT3",
        "colab": {
          "base_uri": "https://localhost:8080/"
        },
        "outputId": "a2938d66-7ab0-47c2-cc9f-5ada852df513"
      },
      "source": [
        "eye_train['label'].unique()"
      ],
      "execution_count": 7,
      "outputs": [
        {
          "output_type": "execute_result",
          "data": {
            "text/plain": [
              "array(['male', 'female'], dtype=object)"
            ]
          },
          "metadata": {},
          "execution_count": 7
        }
      ]
    },
    {
      "cell_type": "code",
      "metadata": {
        "id": "RPzXoJrw5W6X",
        "colab": {
          "base_uri": "https://localhost:8080/"
        },
        "outputId": "608c2811-7396-4fe0-b66b-d9005d0c96d2"
      },
      "source": [
        "#get the counts of the labels\n",
        "eye_train['label'].value_counts()"
      ],
      "execution_count": 8,
      "outputs": [
        {
          "output_type": "execute_result",
          "data": {
            "text/plain": [
              "male      5058\n",
              "female    4162\n",
              "Name: label, dtype: int64"
            ]
          },
          "metadata": {},
          "execution_count": 8
        }
      ]
    },
    {
      "cell_type": "code",
      "metadata": {
        "id": "IwqleWgD8Oq0",
        "colab": {
          "base_uri": "https://localhost:8080/"
        },
        "outputId": "d676a315-17d2-475d-a3bc-b00956e4c50c"
      },
      "source": [
        "# There is a different dataset for testing,\n",
        "#we split the train dataset into train and validation set\n",
        "\n",
        "train_set, val_set = train_test_split(eye_train, test_size = 0.3, random_state = 42)\n",
        "\n",
        "print(train_set.shape)\n",
        "print(val_set.shape)"
      ],
      "execution_count": 9,
      "outputs": [
        {
          "output_type": "stream",
          "name": "stdout",
          "text": [
            "(6454, 2)\n",
            "(2766, 2)\n"
          ]
        }
      ]
    },
    {
      "cell_type": "markdown",
      "metadata": {
        "id": "EGGzdmJe9v8v"
      },
      "source": [
        "### **Image preprocessing and generation**\n"
      ]
    },
    {
      "cell_type": "code",
      "metadata": {
        "id": "B9_486UD8TT-",
        "colab": {
          "base_uri": "https://localhost:8080/"
        },
        "outputId": "4bcba3cd-4b3b-4859-81c2-bab7e846d982"
      },
      "source": [
        "img_gen = ImageDataGenerator(preprocessing_function = tf.keras.applications.mobilenet_v2.preprocess_input, \n",
        "                             rescale=1/255, zoom_range = 0.2,\n",
        "                                rotation_range = 20,\n",
        "                                width_shift_range = 0.2,\n",
        "                                height_shift_range = 0.2,\n",
        "                                horizontal_flip = True)\n",
        "\n",
        "# img_gen cannot take in an array, so ensure the data that is been passed is a dataframe\n",
        "train = img_gen.flow_from_dataframe(dataframe = train_set,\n",
        "    directory = '/content/drive/MyDrive/eye_gender_data/train' ,  # the path contaning the images                                 \n",
        "    x_col = 'filename', #name of the column containing the image in the train set\n",
        "    y_col ='label', #name of column containing the target in the train set\n",
        "    target_size = (100, 100),\n",
        "    color_mode = 'rgb',\n",
        "    class_mode = 'categorical',#the class mode here and that for the model_loss(when using sequential model)\n",
        "                                    #should be the same\n",
        "    batch_size = 32,\n",
        "    shuffle = False #not to shuffle the given data\n",
        ")\n",
        "\n",
        "val = img_gen.flow_from_dataframe(dataframe = val_set,\n",
        "    directory = '/content/drive/MyDrive/eye_gender_data/train' ,   # the path conataining the images                          \n",
        "    x_col = 'filename', #name of the column containing the image in the test set\n",
        "    y_col ='label', #name of column containing the target in the test set\n",
        "    target_size =(100, 100),\n",
        "    color_mode ='rgb',\n",
        "    class_mode ='categorical',\n",
        "    batch_size = 32,\n",
        "    shuffle = False # not to shuffle the given data\n",
        ")"
      ],
      "execution_count": 10,
      "outputs": [
        {
          "output_type": "stream",
          "name": "stdout",
          "text": [
            "Found 6454 validated image filenames belonging to 2 classes.\n",
            "Found 2766 validated image filenames belonging to 2 classes.\n"
          ]
        }
      ]
    },
    {
      "cell_type": "markdown",
      "metadata": {
        "id": "WxBtwNMNLTp4"
      },
      "source": [
        "## **Model Building**"
      ]
    },
    {
      "cell_type": "code",
      "metadata": {
        "id": "m1VuscII9f_m",
        "colab": {
          "base_uri": "https://localhost:8080/"
        },
        "outputId": "2b965433-6c3a-470e-b21c-6eefaf7678ac"
      },
      "source": [
        "# define sequential model\n",
        "model = tf.keras.models.Sequential()\n",
        "# define conv-pool layers - set 1\n",
        "model.add(tf.keras.layers.Conv2D(filters = 32, kernel_size=(3, 3), strides=(1, 1), \n",
        "                                activation='relu', padding='valid', input_shape = (100, 100, 3)))\n",
        "model.add(BatchNormalization(axis=3))\n",
        "model.add(tf.keras.layers.MaxPooling2D(pool_size=(2, 2)))\n",
        "\n",
        "\n",
        "# define conv-pool layers - set 2\n",
        "model.add(tf.keras.layers.Conv2D(filters = 16, kernel_size=(3, 3), strides=(1, 1), \n",
        "                                activation='relu', padding='valid'))\n",
        "\n",
        "model.add(tf.keras.layers.MaxPooling2D(pool_size=(2, 2)))\n",
        "\n",
        "# define conv-pool layers - set 3\n",
        "model.add(tf.keras.layers.Conv2D(filters = 16, kernel_size=(3, 3), strides=(1, 1), \n",
        "                                activation='relu', padding='valid'))\n",
        "model.add(tf.keras.layers.MaxPooling2D(pool_size=(2, 2)))\n",
        "\n",
        "\n",
        "# add flatten layer\n",
        "model.add(tf.keras.layers.Flatten())\n",
        "\n",
        "# add dense layers with some dropout\n",
        "model.add(tf.keras.layers.Dense(512, activation='relu'))\n",
        "model.add(tf.keras.layers.Dropout(rate = 0.2))\n",
        "model.add(tf.keras.layers.Dense(256, activation='relu'))\n",
        "model.add(tf.keras.layers.Dense(256, activation='relu'))\n",
        "model.add(tf.keras.layers.Dense(128, activation='relu'))\n",
        "\n",
        "# add output layer\n",
        "model.add(tf.keras.layers.Dense(2, kernel_regularizer = l2(0.01), #adding regularizer for svm, Because when we use Support Vector Machine for binary classification we use something called LinearSVM\n",
        "                                activation='linear')) #use softmax as activation in the output layer\n",
        "#for multiclass. Sigmoid activation is used for binary and 'relu' shouldnt be use for output layer\n",
        "\n",
        "model.summary()"
      ],
      "execution_count": 11,
      "outputs": [
        {
          "output_type": "stream",
          "name": "stdout",
          "text": [
            "Model: \"sequential\"\n",
            "_________________________________________________________________\n",
            " Layer (type)                Output Shape              Param #   \n",
            "=================================================================\n",
            " conv2d (Conv2D)             (None, 98, 98, 32)        896       \n",
            "                                                                 \n",
            " batch_normalization (BatchN  (None, 98, 98, 32)       128       \n",
            " ormalization)                                                   \n",
            "                                                                 \n",
            " max_pooling2d (MaxPooling2D  (None, 49, 49, 32)       0         \n",
            " )                                                               \n",
            "                                                                 \n",
            " conv2d_1 (Conv2D)           (None, 47, 47, 16)        4624      \n",
            "                                                                 \n",
            " max_pooling2d_1 (MaxPooling  (None, 23, 23, 16)       0         \n",
            " 2D)                                                             \n",
            "                                                                 \n",
            " conv2d_2 (Conv2D)           (None, 21, 21, 16)        2320      \n",
            "                                                                 \n",
            " max_pooling2d_2 (MaxPooling  (None, 10, 10, 16)       0         \n",
            " 2D)                                                             \n",
            "                                                                 \n",
            " flatten (Flatten)           (None, 1600)              0         \n",
            "                                                                 \n",
            " dense (Dense)               (None, 512)               819712    \n",
            "                                                                 \n",
            " dropout (Dropout)           (None, 512)               0         \n",
            "                                                                 \n",
            " dense_1 (Dense)             (None, 256)               131328    \n",
            "                                                                 \n",
            " dense_2 (Dense)             (None, 256)               65792     \n",
            "                                                                 \n",
            " dense_3 (Dense)             (None, 128)               32896     \n",
            "                                                                 \n",
            " dense_4 (Dense)             (None, 2)                 258       \n",
            "                                                                 \n",
            "=================================================================\n",
            "Total params: 1,057,954\n",
            "Trainable params: 1,057,890\n",
            "Non-trainable params: 64\n",
            "_________________________________________________________________\n"
          ]
        }
      ]
    },
    {
      "cell_type": "code",
      "metadata": {
        "id": "nnpD02N594PP"
      },
      "source": [
        "#import modules that will wnable early stopping for optimization during model training\n",
        "from tensorflow.keras.callbacks import TensorBoard, EarlyStopping\n",
        "from datetime import datetime\n",
        "\n",
        "#tensorboard\n",
        "logdir = \"logs/\" + datetime.now().strftime(\"%Y%m%d-%H%M%S\")\n",
        "tensorboard_callback = TensorBoard(log_dir=logdir)\n",
        "\n",
        "#define the early stopping\n",
        "es = EarlyStopping(monitor='val_loss', mode='min', verbose=1, patience=5)"
      ],
      "execution_count": 12,
      "outputs": []
    },
    {
      "cell_type": "code",
      "metadata": {
        "id": "iu5MwOSt-Jvm"
      },
      "source": [
        "# compile model\n",
        "model.compile(optimizer='adam', # optimize the model with adam optimizer\n",
        "              loss=\"hinge\", #for svm classification\n",
        "              metrics=['accuracy']) #to get accuracy of the model in each run"
      ],
      "execution_count": 13,
      "outputs": []
    },
    {
      "cell_type": "code",
      "metadata": {
        "id": "mk_A1dfg-LCn",
        "colab": {
          "base_uri": "https://localhost:8080/"
        },
        "outputId": "4f46c2a0-c8af-45e1-bf2b-9d63b3808c67"
      },
      "source": [
        "#fit the model on train data and add val data fro validation\n",
        "history = model.fit(train,\n",
        "    batch_size = 32,\n",
        "    verbose = 1, # Suppress chatty output; use Tensorboard instead\n",
        "    epochs = 50,\n",
        "    validation_data = val, #add the validation set to evaluate the performance in each run\n",
        "    callbacks = [tensorboard_callback, es],\n",
        ")"
      ],
      "execution_count": 14,
      "outputs": [
        {
          "output_type": "stream",
          "name": "stdout",
          "text": [
            "Epoch 1/50\n",
            "202/202 [==============================] - 1691s 8s/step - loss: 0.9085 - accuracy: 0.5731 - val_loss: 0.9067 - val_accuracy: 0.5510\n",
            "Epoch 2/50\n",
            "202/202 [==============================] - 144s 711ms/step - loss: 0.7657 - accuracy: 0.6522 - val_loss: 0.8167 - val_accuracy: 0.6493\n",
            "Epoch 3/50\n",
            "202/202 [==============================] - 167s 826ms/step - loss: 0.7050 - accuracy: 0.6700 - val_loss: 0.8950 - val_accuracy: 0.5712\n",
            "Epoch 4/50\n",
            "202/202 [==============================] - 161s 798ms/step - loss: 0.6728 - accuracy: 0.6774 - val_loss: 0.8844 - val_accuracy: 0.5879\n",
            "Epoch 5/50\n",
            "202/202 [==============================] - 161s 798ms/step - loss: 0.6507 - accuracy: 0.6887 - val_loss: 0.8046 - val_accuracy: 0.6164\n",
            "Epoch 6/50\n",
            "202/202 [==============================] - 161s 795ms/step - loss: 0.6116 - accuracy: 0.7067 - val_loss: 0.6615 - val_accuracy: 0.6782\n",
            "Epoch 7/50\n",
            "202/202 [==============================] - 161s 795ms/step - loss: 0.5843 - accuracy: 0.7183 - val_loss: 0.9088 - val_accuracy: 0.5839\n",
            "Epoch 8/50\n",
            "202/202 [==============================] - 146s 721ms/step - loss: 0.5704 - accuracy: 0.7237 - val_loss: 0.7321 - val_accuracy: 0.6565\n",
            "Epoch 9/50\n",
            "202/202 [==============================] - 159s 788ms/step - loss: 0.5504 - accuracy: 0.7337 - val_loss: 0.9467 - val_accuracy: 0.5271\n",
            "Epoch 10/50\n",
            "202/202 [==============================] - 140s 693ms/step - loss: 0.5430 - accuracy: 0.7378 - val_loss: 0.8368 - val_accuracy: 0.5893\n",
            "Epoch 11/50\n",
            "202/202 [==============================] - 145s 717ms/step - loss: 0.5372 - accuracy: 0.7405 - val_loss: 0.8088 - val_accuracy: 0.5991\n",
            "Epoch 11: early stopping\n"
          ]
        }
      ]
    },
    {
      "cell_type": "code",
      "metadata": {
        "colab": {
          "base_uri": "https://localhost:8080/",
          "height": 516
        },
        "id": "SXD99y07KbLW",
        "outputId": "0311bdd1-d4a9-4f1b-b42e-21f95e4e2fab"
      },
      "source": [
        "acc = history.history['accuracy'] # get history report of the model\n",
        "\n",
        "val_acc = history.history['val_accuracy'] # get history of the validation set\n",
        "\n",
        "loss = history.history['loss'] #get the history of the lossses recorded on the train set\n",
        "val_loss = history.history['val_loss'] #get the history of the lossses recorded on the validation set\n",
        "\n",
        "plt.figure(figsize=(8, 8)) # set figure size for the plot generated\n",
        "\n",
        "\n",
        "plt.plot(acc, label='Training Accuracy') #plot accuracy curve for each train run\n",
        "plt.plot(val_acc, label='Validation Accuracy') #plot accuracy curve for each validation run\n",
        "\n",
        "plt.legend(loc='lower right')\n",
        "plt.ylabel('Accuracy') #label name for y axis\n",
        "plt.ylim([min(plt.ylim()),0.9]) #set limit for y axis\n",
        "plt.title('Training and Validation Accuracy') #set title for the plot"
      ],
      "execution_count": 15,
      "outputs": [
        {
          "output_type": "execute_result",
          "data": {
            "text/plain": [
              "Text(0.5, 1.0, 'Training and Validation Accuracy')"
            ]
          },
          "metadata": {},
          "execution_count": 15
        },
        {
          "output_type": "display_data",
          "data": {
            "text/plain": [
              "<Figure size 576x576 with 1 Axes>"
            ],
            "image/png": "[encoded data removed]"
          },
          "metadata": {
            "needs_background": "light"
          }
        }
      ]
    },
    {
      "cell_type": "code",
      "metadata": {
        "colab": {
          "base_uri": "https://localhost:8080/",
          "height": 341
        },
        "id": "d8vJq0vMKiWC",
        "outputId": "7e8f0ab9-362a-4850-f885-878edc6beba8"
      },
      "source": [
        "plt.figure(figsize=(5, 5)) # set figure size for the plot generated\n",
        "\n",
        "\n",
        "plt.plot(loss, label='Training Loss') #plot loss curve for each train run\n",
        "plt.plot(val_loss, label='Validation Loss') #plot loss curve for each validation run\n",
        "\n",
        "plt.legend(loc='lower right')\n",
        "plt.ylabel('Loss') #label name for y axis\n",
        "plt.ylim([min(plt.ylim()), 1]) #set limit for y axis"
      ],
      "execution_count": 16,
      "outputs": [
        {
          "output_type": "execute_result",
          "data": {
            "text/plain": [
              "(0.5167595833539963, 1.0)"
            ]
          },
          "metadata": {},
          "execution_count": 16
        },
        {
          "output_type": "display_data",
          "data": {
            "text/plain": [
              "<Figure size 360x360 with 1 Axes>"
            ],
            "image/png": "[encoded data removed]"
          },
          "metadata": {
            "needs_background": "light"
          }
        }
      ]
    },
    {
      "cell_type": "code",
      "metadata": {
        "id": "CZpj7Wd--ctW",
        "colab": {
          "base_uri": "https://localhost:8080/"
        },
        "outputId": "3f924318-908a-4e4b-fef6-e57c562a62c7"
      },
      "source": [
        "\n",
        "imgen = ImageDataGenerator(rescale=1/255 )\n",
        "\n",
        "# img_gen cannot take in an array, so ensure the data that is been passed is a dataframe\n",
        "test = imgen.flow_from_dataframe(dataframe = eye_test,\n",
        "    directory = '/content/drive/MyDrive/eye_gender_data/test' ,  # the path contaning the images                                 \n",
        "    target_size = (100, 100),\n",
        "    color_mode = 'rgb',\n",
        "    class_mode= None ,#the class mode here and that for the model_loss(when using sequential model)\n",
        "                                    #should be the same\n",
        "    batch_size = 32,\n",
        "    shuffle = False #not to shuffle the given data\n",
        ")\n",
        "\n"
      ],
      "execution_count": 17,
      "outputs": [
        {
          "output_type": "stream",
          "name": "stdout",
          "text": [
            "Found 2305 validated image filenames.\n"
          ]
        }
      ]
    },
    {
      "cell_type": "markdown",
      "source": [
        "## **Prediction**"
      ],
      "metadata": {
        "id": "JmDV1ynuUtSY"
      }
    },
    {
      "cell_type": "code",
      "metadata": {
        "colab": {
          "base_uri": "https://localhost:8080/"
        },
        "id": "fP7AH66NLTFW",
        "outputId": "9c7febec-cdfc-4903-e4fc-4566a35e5f59"
      },
      "source": [
        "prediction = model.predict_generator(test, verbose=1)"
      ],
      "execution_count": 33,
      "outputs": [
        {
          "output_type": "stream",
          "name": "stderr",
          "text": [
            "<ipython-input-33-250f67c180f4>:1: UserWarning: `Model.predict_generator` is deprecated and will be removed in a future version. Please use `Model.predict`, which supports generators.\n",
            "  prediction = model.predict_generator(test, verbose=1)\n"
          ]
        },
        {
          "output_type": "stream",
          "name": "stdout",
          "text": [
            "73/73 [==============================] - 11s 152ms/step\n"
          ]
        }
      ]
    },
    {
      "cell_type": "code",
      "metadata": {
        "colab": {
          "base_uri": "https://localhost:8080/"
        },
        "id": "C3t85d6cLaGH",
        "outputId": "a1ce5148-a38d-47ac-bad6-642dc6e220d1"
      },
      "source": [
        "len(prediction)"
      ],
      "execution_count": 34,
      "outputs": [
        {
          "output_type": "execute_result",
          "data": {
            "text/plain": [
              "2305"
            ]
          },
          "metadata": {},
          "execution_count": 34
        }
      ]
    },
    {
      "cell_type": "code",
      "metadata": {
        "id": "MBS5daBqKMG2"
      },
      "source": [
        "prediction = np.argmax(prediction, axis = 1) # pick the class with highest probability\n",
        "\n",
        "\n",
        "labels = (train.class_indices)\n",
        "labels = dict((v,k) for k,v in labels.items())\n",
        "predictions = [labels[k] for k in prediction]\n",
        "\n",
        "\n",
        "output = pd.DataFrame({'label': predictions})"
      ],
      "execution_count": 35,
      "outputs": []
    },
    {
      "cell_type": "code",
      "metadata": {
        "colab": {
          "base_uri": "https://localhost:8080/",
          "height": 424
        },
        "id": "1pIKRtV8K8_V",
        "outputId": "d5bc30fd-0970-4219-a420-04fe6e21a5b2"
      },
      "source": [
        "output"
      ],
      "execution_count": 36,
      "outputs": [
        {
          "output_type": "execute_result",
          "data": {
            "text/plain": [
              "       label\n",
              "0     female\n",
              "1     female\n",
              "2       male\n",
              "3     female\n",
              "4       male\n",
              "...      ...\n",
              "2300  female\n",
              "2301  female\n",
              "2302  female\n",
              "2303    male\n",
              "2304  female\n",
              "\n",
              "[2305 rows x 1 columns]"
            ],
            "text/html": [
              "\n",
              "  <div id=\"df-9a7be4ba-804f-4ef5-aa4d-fe5160bf70e6\">\n",
              "    <div class=\"colab-df-container\">\n",
              "      <div>\n",
              "<style scoped>\n",
              "    .dataframe tbody tr th:only-of-type {\n",
              "        vertical-align: middle;\n",
              "    }\n",
              "\n",
              "    .dataframe tbody tr th {\n",
              "        vertical-align: top;\n",
              "    }\n",
              "\n",
              "    .dataframe thead th {\n",
              "        text-align: right;\n",
              "    }\n",
              "</style>\n",
              "<table border=\"1\" class=\"dataframe\">\n",
              "  <thead>\n",
              "    <tr style=\"text-align: right;\">\n",
              "      <th></th>\n",
              "      <th>label</th>\n",
              "    </tr>\n",
              "  </thead>\n",
              "  <tbody>\n",
              "    <tr>\n",
              "      <th>0</th>\n",
              "      <td>female</td>\n",
              "    </tr>\n",
              "    <tr>\n",
              "      <th>1</th>\n",
              "      <td>female</td>\n",
              "    </tr>\n",
              "    <tr>\n",
              "      <th>2</th>\n",
              "      <td>male</td>\n",
              "    </tr>\n",
              "    <tr>\n",
              "      <th>3</th>\n",
              "      <td>female</td>\n",
              "    </tr>\n",
              "    <tr>\n",
              "      <th>4</th>\n",
              "      <td>male</td>\n",
              "    </tr>\n",
              "    <tr>\n",
              "      <th>...</th>\n",
              "      <td>...</td>\n",
              "    </tr>\n",
              "    <tr>\n",
              "      <th>2300</th>\n",
              "      <td>female</td>\n",
              "    </tr>\n",
              "    <tr>\n",
              "      <th>2301</th>\n",
              "      <td>female</td>\n",
              "    </tr>\n",
              "    <tr>\n",
              "      <th>2302</th>\n",
              "      <td>female</td>\n",
              "    </tr>\n",
              "    <tr>\n",
              "      <th>2303</th>\n",
              "      <td>male</td>\n",
              "    </tr>\n",
              "    <tr>\n",
              "      <th>2304</th>\n",
              "      <td>female</td>\n",
              "    </tr>\n",
              "  </tbody>\n",
              "</table>\n",
              "<p>2305 rows × 1 columns</p>\n",
              "</div>\n",
              "      <button class=\"colab-df-convert\" onclick=\"convertToInteractive('df-9a7be4ba-804f-4ef5-aa4d-fe5160bf70e6')\"\n",
              "              title=\"Convert this dataframe to an interactive table.\"\n",
              "              style=\"display:none;\">\n",
              "        \n",
              "  <svg xmlns=\"http://www.w3.org/2000/svg\" height=\"24px\"viewBox=\"0 0 24 24\"\n",
              "       width=\"24px\">\n",
              "    <path d=\"M0 0h24v24H0V0z\" fill=\"none\"/>\n",
              "    <path d=\"M18.56 5.44l.94 2.06.94-2.06 2.06-.94-2.06-.94-.94-2.06-.94 2.06-2.06.94zm-11 1L8.5 8.5l.94-2.06 2.06-.94-2.06-.94L8.5 2.5l-.94 2.06-2.06.94zm10 10l.94 2.06.94-2.06 2.06-.94-2.06-.94-.94-2.06-.94 2.06-2.06.94z\"/><path d=\"M17.41 7.96l-1.37-1.37c-.4-.4-.92-.59-1.43-.59-.52 0-1.04.2-1.43.59L10.3 9.45l-7.72 7.72c-.78.78-.78 2.05 0 2.83L4 21.41c.39.39.9.59 1.41.59.51 0 1.02-.2 1.41-.59l7.78-7.78 2.81-2.81c.8-.78.8-2.07 0-2.86zM5.41 20L4 18.59l7.72-7.72 1.47 1.35L5.41 20z\"/>\n",
              "  </svg>\n",
              "      </button>\n",
              "      \n",
              "  <style>\n",
              "    .colab-df-container {\n",
              "      display:flex;\n",
              "      flex-wrap:wrap;\n",
              "      gap: 12px;\n",
              "    }\n",
              "\n",
              "    .colab-df-convert {\n",
              "      background-color: #E8F0FE;\n",
              "      border: none;\n",
              "      border-radius: 50%;\n",
              "      cursor: pointer;\n",
              "      display: none;\n",
              "      fill: #1967D2;\n",
              "      height: 32px;\n",
              "      padding: 0 0 0 0;\n",
              "      width: 32px;\n",
              "    }\n",
              "\n",
              "    .colab-df-convert:hover {\n",
              "      background-color: #E2EBFA;\n",
              "      box-shadow: 0px 1px 2px rgba(60, 64, 67, 0.3), 0px 1px 3px 1px rgba(60, 64, 67, 0.15);\n",
              "      fill: #174EA6;\n",
              "    }\n",
              "\n",
              "    [theme=dark] .colab-df-convert {\n",
              "      background-color: #3B4455;\n",
              "      fill: #D2E3FC;\n",
              "    }\n",
              "\n",
              "    [theme=dark] .colab-df-convert:hover {\n",
              "      background-color: #434B5C;\n",
              "      box-shadow: 0px 1px 3px 1px rgba(0, 0, 0, 0.15);\n",
              "      filter: drop-shadow(0px 1px 2px rgba(0, 0, 0, 0.3));\n",
              "      fill: #FFFFFF;\n",
              "    }\n",
              "  </style>\n",
              "\n",
              "      <script>\n",
              "        const buttonEl =\n",
              "          document.querySelector('#df-9a7be4ba-804f-4ef5-aa4d-fe5160bf70e6 button.colab-df-convert');\n",
              "        buttonEl.style.display =\n",
              "          google.colab.kernel.accessAllowed ? 'block' : 'none';\n",
              "\n",
              "        async function convertToInteractive(key) {\n",
              "          const element = document.querySelector('#df-9a7be4ba-804f-4ef5-aa4d-fe5160bf70e6');\n",
              "          const dataTable =\n",
              "            await google.colab.kernel.invokeFunction('convertToInteractive',\n",
              "                                                     [key], {});\n",
              "          if (!dataTable) return;\n",
              "\n",
              "          const docLinkHtml = 'Like what you see? Visit the ' +\n",
              "            '<a target=\"_blank\" href=https://colab.research.google.com/notebooks/data_table.ipynb>data table notebook</a>'\n",
              "            + ' to learn more about interactive tables.';\n",
              "          element.innerHTML = '';\n",
              "          dataTable['output_type'] = 'display_data';\n",
              "          await google.colab.output.renderOutput(dataTable, element);\n",
              "          const docLink = document.createElement('div');\n",
              "          docLink.innerHTML = docLinkHtml;\n",
              "          element.appendChild(docLink);\n",
              "        }\n",
              "      </script>\n",
              "    </div>\n",
              "  </div>\n",
              "  "
            ]
          },
          "metadata": {},
          "execution_count": 36
        }
      ]
    },
    {
      "cell_type": "code",
      "metadata": {
        "id": "N2q8Mi6KOt6w"
      },
      "source": [],
      "execution_count": null,
      "outputs": []
    }
  ]
}